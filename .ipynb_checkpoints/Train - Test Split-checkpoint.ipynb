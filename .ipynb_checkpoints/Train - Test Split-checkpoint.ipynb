{
 "cells": [
  {
   "cell_type": "code",
   "execution_count": 3,
   "id": "94695f47",
   "metadata": {},
   "outputs": [],
   "source": [
    "from sklearn.model_selection import train_test_split\n",
    "import pandas as pd"
   ]
  },
  {
   "cell_type": "code",
   "execution_count": 45,
   "id": "367c6998",
   "metadata": {},
   "outputs": [],
   "source": [
    "base_path = \"data/goldstandard/\"\n",
    "in_path = \"gs_dw_forbes_cat.csv\"\n",
    "out_path_train = \"dw_forbes_train.csv\"\n",
    "out_path_test = \"dw_forbes_test.csv\""
   ]
  },
  {
   "cell_type": "code",
   "execution_count": 46,
   "id": "5504c9c0",
   "metadata": {},
   "outputs": [],
   "source": [
    "df = pd.read_csv(base_path + in_path, delimiter=\";\", header=None)"
   ]
  },
  {
   "cell_type": "code",
   "execution_count": 47,
   "id": "f24ebeab",
   "metadata": {},
   "outputs": [
    {
     "data": {
      "text/html": [
       "<div>\n",
       "<style scoped>\n",
       "    .dataframe tbody tr th:only-of-type {\n",
       "        vertical-align: middle;\n",
       "    }\n",
       "\n",
       "    .dataframe tbody tr th {\n",
       "        vertical-align: top;\n",
       "    }\n",
       "\n",
       "    .dataframe thead th {\n",
       "        text-align: right;\n",
       "    }\n",
       "</style>\n",
       "<table border=\"1\" class=\"dataframe\">\n",
       "  <thead>\n",
       "    <tr style=\"text-align: right;\">\n",
       "      <th></th>\n",
       "      <th>0</th>\n",
       "      <th>1</th>\n",
       "      <th>2</th>\n",
       "      <th>3</th>\n",
       "    </tr>\n",
       "  </thead>\n",
       "  <tbody>\n",
       "    <tr>\n",
       "      <th>0</th>\n",
       "      <td>dataworld_1008</td>\n",
       "      <td>Forbes1182</td>\n",
       "      <td>1</td>\n",
       "      <td>nf1</td>\n",
       "    </tr>\n",
       "    <tr>\n",
       "      <th>1</th>\n",
       "      <td>dataworld_1040</td>\n",
       "      <td>Forbes971</td>\n",
       "      <td>1</td>\n",
       "      <td>nf1</td>\n",
       "    </tr>\n",
       "    <tr>\n",
       "      <th>2</th>\n",
       "      <td>dataworld_1041</td>\n",
       "      <td>Forbes1107</td>\n",
       "      <td>1</td>\n",
       "      <td>nf1</td>\n",
       "    </tr>\n",
       "    <tr>\n",
       "      <th>3</th>\n",
       "      <td>dataworld_1052</td>\n",
       "      <td>Forbes1110</td>\n",
       "      <td>1</td>\n",
       "      <td>nf1</td>\n",
       "    </tr>\n",
       "    <tr>\n",
       "      <th>4</th>\n",
       "      <td>dataworld_1067</td>\n",
       "      <td>Forbes1116</td>\n",
       "      <td>1</td>\n",
       "      <td>nf1</td>\n",
       "    </tr>\n",
       "  </tbody>\n",
       "</table>\n",
       "</div>"
      ],
      "text/plain": [
       "                0           1  2    3\n",
       "0  dataworld_1008  Forbes1182  1  nf1\n",
       "1  dataworld_1040   Forbes971  1  nf1\n",
       "2  dataworld_1041  Forbes1107  1  nf1\n",
       "3  dataworld_1052  Forbes1110  1  nf1\n",
       "4  dataworld_1067  Forbes1116  1  nf1"
      ]
     },
     "execution_count": 47,
     "metadata": {},
     "output_type": "execute_result"
    }
   ],
   "source": [
    "df.head()"
   ]
  },
  {
   "cell_type": "code",
   "execution_count": 48,
   "id": "02ad27af",
   "metadata": {},
   "outputs": [],
   "source": [
    "X = df[[0,1,2]]\n",
    "y = df[3]"
   ]
  },
  {
   "cell_type": "code",
   "execution_count": 49,
   "id": "c3cbbe43",
   "metadata": {},
   "outputs": [],
   "source": [
    "X_train, X_test= train_test_split(df, test_size=0.15, random_state=42, stratify=df[3])"
   ]
  },
  {
   "cell_type": "code",
   "execution_count": 50,
   "id": "28d993b3",
   "metadata": {},
   "outputs": [],
   "source": [
    "X_train.to_csv(base_path + out_path_train, header=None)\n",
    "X_test.to_csv(base_path + out_path_test, header=None)"
   ]
  },
  {
   "cell_type": "code",
   "execution_count": null,
   "id": "5fe13878",
   "metadata": {},
   "outputs": [],
   "source": []
  }
 ],
 "metadata": {
  "kernelspec": {
   "display_name": "Python 3",
   "language": "python",
   "name": "python3"
  },
  "language_info": {
   "codemirror_mode": {
    "name": "ipython",
    "version": 3
   },
   "file_extension": ".py",
   "mimetype": "text/x-python",
   "name": "python",
   "nbconvert_exporter": "python",
   "pygments_lexer": "ipython3",
   "version": "3.8.8"
  }
 },
 "nbformat": 4,
 "nbformat_minor": 5
}
