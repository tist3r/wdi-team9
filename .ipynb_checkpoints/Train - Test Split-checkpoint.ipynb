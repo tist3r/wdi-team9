{
 "cells": [
  {
   "cell_type": "code",
   "execution_count": 3,
   "id": "94695f47",
   "metadata": {},
   "outputs": [],
   "source": [
    "from sklearn.model_selection import train_test_split\n",
    "import pandas as pd"
   ]
  },
  {
   "cell_type": "code",
   "execution_count": 33,
   "id": "841c3b91",
   "metadata": {},
   "outputs": [],
   "source": [
    "base_path = \"data/goldstandard/\"\n",
    "in_path = \"gs_dbpedia_dw_cat.csv\"\n",
    "out_path_train = \"dbpedia_dw_train.csv\"\n",
    "out_path_test = \"dbpedia_dw_test.csv\""
   ]
  },
  {
   "cell_type": "code",
   "execution_count": 34,
   "id": "5504c9c0",
   "metadata": {},
   "outputs": [],
   "source": [
    "df = pd.read_csv(base_path + in_path, delimiter=\";\", header=None)"
   ]
  },
  {
   "cell_type": "code",
   "execution_count": 35,
   "id": "03a1d84b",
   "metadata": {},
   "outputs": [
    {
     "data": {
      "text/html": [
       "<div>\n",
       "<style scoped>\n",
       "    .dataframe tbody tr th:only-of-type {\n",
       "        vertical-align: middle;\n",
       "    }\n",
       "\n",
       "    .dataframe tbody tr th {\n",
       "        vertical-align: top;\n",
       "    }\n",
       "\n",
       "    .dataframe thead th {\n",
       "        text-align: right;\n",
       "    }\n",
       "</style>\n",
       "<table border=\"1\" class=\"dataframe\">\n",
       "  <thead>\n",
       "    <tr style=\"text-align: right;\">\n",
       "      <th></th>\n",
       "      <th>0</th>\n",
       "      <th>1</th>\n",
       "      <th>2</th>\n",
       "      <th>3</th>\n",
       "    </tr>\n",
       "  </thead>\n",
       "  <tbody>\n",
       "    <tr>\n",
       "      <th>0</th>\n",
       "      <td>dbpedia_1016</td>\n",
       "      <td>dataworld_387</td>\n",
       "      <td>1</td>\n",
       "      <td>nf1</td>\n",
       "    </tr>\n",
       "    <tr>\n",
       "      <th>1</th>\n",
       "      <td>dbpedia_1022</td>\n",
       "      <td>dataworld_1516</td>\n",
       "      <td>1</td>\n",
       "      <td>nf1</td>\n",
       "    </tr>\n",
       "    <tr>\n",
       "      <th>2</th>\n",
       "      <td>dbpedia_1025</td>\n",
       "      <td>dataworld_55</td>\n",
       "      <td>1</td>\n",
       "      <td>nf1</td>\n",
       "    </tr>\n",
       "    <tr>\n",
       "      <th>3</th>\n",
       "      <td>dbpedia_1028</td>\n",
       "      <td>dataworld_1849</td>\n",
       "      <td>1</td>\n",
       "      <td>nf1</td>\n",
       "    </tr>\n",
       "    <tr>\n",
       "      <th>4</th>\n",
       "      <td>dbpedia_1030</td>\n",
       "      <td>dataworld_1336</td>\n",
       "      <td>1</td>\n",
       "      <td>nf1</td>\n",
       "    </tr>\n",
       "  </tbody>\n",
       "</table>\n",
       "</div>"
      ],
      "text/plain": [
       "              0               1  2    3\n",
       "0  dbpedia_1016   dataworld_387  1  nf1\n",
       "1  dbpedia_1022  dataworld_1516  1  nf1\n",
       "2  dbpedia_1025    dataworld_55  1  nf1\n",
       "3  dbpedia_1028  dataworld_1849  1  nf1\n",
       "4  dbpedia_1030  dataworld_1336  1  nf1"
      ]
     },
     "execution_count": 35,
     "metadata": {},
     "output_type": "execute_result"
    }
   ],
   "source": [
    "df.head()"
   ]
  },
  {
   "cell_type": "code",
   "execution_count": 36,
   "id": "349f3dd3",
   "metadata": {},
   "outputs": [],
   "source": [
    "X = df[[0,1,2]]\n",
    "y = df[3]"
   ]
  },
  {
   "cell_type": "code",
   "execution_count": 37,
   "id": "3150346a",
   "metadata": {},
   "outputs": [],
   "source": [
    "X_train, X_test= train_test_split(df, test_size=0.15, random_state=42, stratify=df[3])"
   ]
  },
  {
   "cell_type": "code",
   "execution_count": 38,
   "id": "6feee87c",
   "metadata": {},
   "outputs": [],
   "source": [
    "X_train.to_csv(base_path + out_path_train, header=None)\n",
    "X_test.to_csv(base_path + out_path_test, header=None)"
   ]
  },
  {
   "cell_type": "code",
   "execution_count": null,
   "id": "a6377ce7",
   "metadata": {},
   "outputs": [],
   "source": []
  }
 ],
 "metadata": {
  "kernelspec": {
   "display_name": "Python 3",
   "language": "python",
   "name": "python3"
  },
  "language_info": {
   "codemirror_mode": {
    "name": "ipython",
    "version": 3
   },
   "file_extension": ".py",
   "mimetype": "text/x-python",
   "name": "python",
   "nbconvert_exporter": "python",
   "pygments_lexer": "ipython3",
   "version": "3.8.8"
  }
 },
 "nbformat": 4,
 "nbformat_minor": 5
}
