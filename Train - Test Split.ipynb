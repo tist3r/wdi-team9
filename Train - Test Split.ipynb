{
 "cells": [
  {
   "cell_type": "code",
   "execution_count": 1,
   "id": "94695f47",
   "metadata": {},
   "outputs": [],
   "source": [
    "from sklearn.model_selection import train_test_split\n",
    "import pandas as pd"
   ]
  },
  {
   "cell_type": "code",
   "execution_count": 2,
   "id": "5fe13878",
   "metadata": {},
   "outputs": [],
   "source": [
    "def make_train_test_split(source1:str, source2:str, test_size=0.15, base_path=\"data/goldstandard/\"):\n",
    "    \"\"\"This method makes the train test split. Expects input file name to have alphabetically ordered source names and conform to the naming scheme\"\"\"\n",
    "    if test_size >=1 or test_size < 0:\n",
    "        raise ValueError(\"test_size has to be in (0,1)\")\n",
    "    \n",
    "    \n",
    "    in_path = f\"archive_and_analysis/gs_{source1}_{source2}_cat.csv\"\n",
    "    out_path_train = f\"{source1}_{source2}_train.csv\"\n",
    "    out_path_test = f\"{source1}_{source2}_test.csv\"\n",
    "\n",
    "    df = pd.read_csv(base_path + in_path, delimiter=\";\", header=None)\n",
    "\n",
    "\n",
    "    #relabel column 2 to TRUE,FALSE for the Boolean.readBool Function\n",
    "    df[2] = df[2].map(lambda x : \"TRUE\" if x == 1 else \"FALSE\")\n",
    "\n",
    "    X_train, X_test= train_test_split(df, test_size=test_size, random_state=42, stratify=df[3], shuffle=True)\n",
    "\n",
    "    #don't print category to conform to expected file layout\n",
    "    X_train[[0,1,2]].to_csv(base_path + out_path_train, header=None, index=False)\n",
    "    X_test[[0,1,2]].to_csv(base_path + out_path_test, header=None, index=False)"
   ]
  },
  {
   "cell_type": "code",
   "execution_count": 4,
   "id": "f317d7ad",
   "metadata": {},
   "outputs": [],
   "source": [
    "#make_train_test_split(\"dbpedia\", \"forbes\", test_size=0.25)\n",
    "#make_train_test_split(\"dbpedia\", \"dw\", test_size=0.25)\n",
    "#make_train_test_split(\"dw\", \"forbes\")\n",
    "make_train_test_split(\"dw\", \"kaggle_f\", test_size=0.25)"
   ]
  },
  {
   "cell_type": "code",
   "execution_count": null,
   "id": "2dfc4cfb",
   "metadata": {},
   "outputs": [],
   "source": []
  },
  {
   "cell_type": "code",
   "execution_count": null,
   "id": "ec2b42d1",
   "metadata": {},
   "outputs": [],
   "source": []
  }
 ],
 "metadata": {
  "kernelspec": {
   "display_name": "Python 3.8.8 ('base')",
   "language": "python",
   "name": "python3"
  },
  "language_info": {
   "codemirror_mode": {
    "name": "ipython",
    "version": 3
   },
   "file_extension": ".py",
   "mimetype": "text/x-python",
   "name": "python",
   "nbconvert_exporter": "python",
   "pygments_lexer": "ipython3",
   "version": "3.8.8"
  },
  "vscode": {
   "interpreter": {
    "hash": "f3fe4f9bb92dadfd0107a3317dbc4b047e334168aeab8ffb5b7227abf669eb35"
   }
  }
 },
 "nbformat": 4,
 "nbformat_minor": 5
}
