{
 "cells": [
  {
   "cell_type": "code",
   "execution_count": 4,
   "id": "94695f47",
   "metadata": {},
   "outputs": [],
   "source": [
    "from sklearn.model_selection import train_test_split\n",
    "import pandas as pd"
   ]
  },
  {
   "cell_type": "code",
   "execution_count": 129,
   "id": "5fe13878",
   "metadata": {},
   "outputs": [],
   "source": [
    "def make_train_test_split(source1:str, source2:str, test_size=0.15, base_path=\"data/goldstandard/\"):\n",
    "    \"\"\"This method makes the train test split. Expects input file name to have alphabetically ordered source names and conform to the naming scheme\"\"\"\n",
    "    if test_size >=1 or test_size < 0:\n",
    "        raise ValueError(\"test_size has to be in (0,1)\")\n",
    "    \n",
    "    \n",
    "    in_path = f\"archive_and_analysis/gs_{source1}_{source2}_cat.csv\"\n",
    "    out_path_train = f\"{source1}_{source2}_train.csv\"\n",
    "    out_path_test = f\"{source1}_{source2}_test.csv\"\n",
    "\n",
    "    df = pd.read_csv(base_path + in_path, delimiter=\";\", header=None)\n",
    "\n",
    "\n",
    "    #relabel column 2 to TRUE,FALSE for the Boolean.readBool Function\n",
    "    df[2] = df[2].map(lambda x : \"TRUE\" if x == 1 else \"FALSE\")\n",
    "\n",
    "    X_train, X_test= train_test_split(df, test_size=test_size, random_state=42, stratify=df[3], shuffle=True)\n",
    "\n",
    "    #don't print category to conform to expected file layout\n",
    "    X_train[[0,1,2]].to_csv(base_path + out_path_train, header=None, index=False)\n",
    "    X_test[[0,1,2]].to_csv(base_path + out_path_test, header=None, index=False)"
   ]
  },
  {
   "cell_type": "code",
   "execution_count": 130,
   "id": "f317d7ad",
   "metadata": {},
   "outputs": [],
   "source": [
    "make_train_test_split(\"dbpedia\", \"forbes\", test_size=0.25)\n",
    "#make_train_test_split(\"dbpedia\", \"dw\")\n",
    "#make_train_test_split(\"dw\", \"forbes\")\n",
    "make_train_test_split(\"dbpedia\", \"kaggle\", test_size=0.25)"
   ]
  },
  {
   "cell_type": "code",
   "execution_count": 40,
   "id": "aa0fb337",
   "metadata": {},
   "outputs": [
    {
     "data": {
      "text/plain": [
       "0.801"
      ]
     },
     "execution_count": 40,
     "metadata": {},
     "output_type": "execute_result"
    }
   ],
   "source": [
    "sim = 0.8\n",
    "thresh = 0.7\n",
    "\n",
    "sim + pow(sim - thresh,3)"
   ]
  },
  {
   "cell_type": "code",
   "execution_count": 42,
   "id": "c3d28067",
   "metadata": {},
   "outputs": [
    {
     "data": {
      "text/plain": [
       "2.6284271247461906"
      ]
     },
     "execution_count": 42,
     "metadata": {},
     "output_type": "execute_result"
    }
   ],
   "source": [
    "import math\n",
    "sim + pow(2, sim+thresh)-1"
   ]
  },
  {
   "cell_type": "code",
   "execution_count": 126,
   "id": "16bfa3ee",
   "metadata": {},
   "outputs": [
    {
     "data": {
      "image/png": "[encoded data removed]",
      "text/plain": [
       "<Figure size 432x288 with 1 Axes>"
      ]
     },
     "metadata": {
      "needs_background": "light"
     },
     "output_type": "display_data"
    }
   ],
   "source": [
    "import numpy as np\n",
    "import matplotlib.pyplot as plt\n",
    "\n",
    "sim = 0.85\n",
    "thresh = 0.5\n",
    "\n",
    "# evenly sampled time at 200ms intervals\n",
    "X = np.arange(0., 1., 0.05)\n",
    "\n",
    "x3 = [boostX3(x,thresh) for x in X]\n",
    "sq = [boostSqrt(x,thresh) for x in X]\n",
    "expo = [boostExp(x,thresh) for x in X]\n",
    "\n",
    "# red dashes, blue squares and green triangles\n",
    "plt.plot(X, sq, 'b--', expo, 'b-', x3, 'r-')\n",
    "plt.show()"
   ]
  },
  {
   "cell_type": "code",
   "execution_count": 127,
   "id": "25a4bc3e",
   "metadata": {},
   "outputs": [
    {
     "data": {
      "text/plain": [
       "[-0.08786796564403573,\n",
       " -0.030387145608156182,\n",
       " 0.02735748497655971,\n",
       " 0.08537522936902525,\n",
       " 0.1436757189068707,\n",
       " 0.20226892457611434,\n",
       " 0.2611651689888373,\n",
       " 0.32037513878324914,\n",
       " 0.37990989746104226,\n",
       " 0.4397808986774537,\n",
       " 0.5,\n",
       " 0.5605794771524133,\n",
       " 0.621532038760888,\n",
       " 0.6828708416203535,\n",
       " 0.7446095064991106,\n",
       " 0.8067621345008164,\n",
       " 0.8693433240034749,\n",
       " 0.9323681881957788,\n",
       " 0.9958523732318683,\n",
       " 1.0598120770263189]"
      ]
     },
     "execution_count": 127,
     "metadata": {},
     "output_type": "execute_result"
    }
   ],
   "source": [
    "[boostExp(x,thresh) for x in X]"
   ]
  },
  {
   "cell_type": "code",
   "execution_count": 125,
   "id": "9c946530",
   "metadata": {},
   "outputs": [],
   "source": [
    "def boostX3(sim, thresh):\n",
    "    return sim + math.pow(sim - thresh, 3)\n",
    "\n",
    "def boostExp(sim, thresh):\n",
    "    return sim + (pow(2, sim-thresh)-1)/10*3\n",
    "\n",
    "def boostSqrt(sim, thresh):\n",
    "    return sim + (math.sqrt(sim) - math.sqrt(thresh))/5"
   ]
  },
  {
   "cell_type": "code",
   "execution_count": null,
   "id": "6d525d64",
   "metadata": {},
   "outputs": [],
   "source": []
  }
 ],
 "metadata": {
  "kernelspec": {
   "display_name": "Python 3.8.8 ('base')",
   "language": "python",
   "name": "python3"
  },
  "language_info": {
   "codemirror_mode": {
    "name": "ipython",
    "version": 3
   },
   "file_extension": ".py",
   "mimetype": "text/x-python",
   "name": "python",
   "nbconvert_exporter": "python",
   "pygments_lexer": "ipython3",
   "version": "3.8.8"
  },
  "vscode": {
   "interpreter": {
    "hash": "f3fe4f9bb92dadfd0107a3317dbc4b047e334168aeab8ffb5b7227abf669eb35"
   }
  }
 },
 "nbformat": 4,
 "nbformat_minor": 5
}
