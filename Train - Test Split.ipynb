{
 "cells": [
  {
   "cell_type": "code",
   "execution_count": 1,
   "id": "94695f47",
   "metadata": {},
   "outputs": [],
   "source": [
    "from sklearn.model_selection import train_test_split\n",
    "import pandas as pd"
   ]
  },
  {
   "cell_type": "code",
   "execution_count": 8,
   "id": "367c6998",
   "metadata": {},
   "outputs": [],
   "source": [
    "base_path = \"data/goldstandard/\"\n",
    "in_path = \"gs_dbpedia_forbes_cat.csv\"\n",
    "out_path_train = \"dbpedia_forbes_train.csv\"\n",
    "out_path_test = \"dbpedia_forbes_test.csv\""
   ]
  },
  {
   "cell_type": "code",
   "execution_count": 9,
   "id": "5504c9c0",
   "metadata": {},
   "outputs": [],
   "source": [
    "df = pd.read_csv(base_path + in_path, delimiter=\";\", header=None)"
   ]
  },
  {
   "cell_type": "code",
   "execution_count": 10,
   "id": "f24ebeab",
   "metadata": {},
   "outputs": [
    {
     "data": {
      "text/html": [
       "<div>\n",
       "<style scoped>\n",
       "    .dataframe tbody tr th:only-of-type {\n",
       "        vertical-align: middle;\n",
       "    }\n",
       "\n",
       "    .dataframe tbody tr th {\n",
       "        vertical-align: top;\n",
       "    }\n",
       "\n",
       "    .dataframe thead th {\n",
       "        text-align: right;\n",
       "    }\n",
       "</style>\n",
       "<table border=\"1\" class=\"dataframe\">\n",
       "  <thead>\n",
       "    <tr style=\"text-align: right;\">\n",
       "      <th></th>\n",
       "      <th>0</th>\n",
       "      <th>1</th>\n",
       "      <th>2</th>\n",
       "      <th>3</th>\n",
       "    </tr>\n",
       "  </thead>\n",
       "  <tbody>\n",
       "    <tr>\n",
       "      <th>0</th>\n",
       "      <td>dbpedia_1025</td>\n",
       "      <td>Forbes31</td>\n",
       "      <td>1</td>\n",
       "      <td>nf1</td>\n",
       "    </tr>\n",
       "    <tr>\n",
       "      <th>1</th>\n",
       "      <td>dbpedia_1049</td>\n",
       "      <td>Forbes519</td>\n",
       "      <td>1</td>\n",
       "      <td>nf1</td>\n",
       "    </tr>\n",
       "    <tr>\n",
       "      <th>2</th>\n",
       "      <td>dbpedia_1057</td>\n",
       "      <td>Forbes1541</td>\n",
       "      <td>1</td>\n",
       "      <td>nf1</td>\n",
       "    </tr>\n",
       "    <tr>\n",
       "      <th>3</th>\n",
       "      <td>dbpedia_1098</td>\n",
       "      <td>Forbes761</td>\n",
       "      <td>1</td>\n",
       "      <td>nf1</td>\n",
       "    </tr>\n",
       "    <tr>\n",
       "      <th>4</th>\n",
       "      <td>dbpedia_1099</td>\n",
       "      <td>Forbes1779</td>\n",
       "      <td>1</td>\n",
       "      <td>nf1</td>\n",
       "    </tr>\n",
       "  </tbody>\n",
       "</table>\n",
       "</div>"
      ],
      "text/plain": [
       "              0           1  2    3\n",
       "0  dbpedia_1025    Forbes31  1  nf1\n",
       "1  dbpedia_1049   Forbes519  1  nf1\n",
       "2  dbpedia_1057  Forbes1541  1  nf1\n",
       "3  dbpedia_1098   Forbes761  1  nf1\n",
       "4  dbpedia_1099  Forbes1779  1  nf1"
      ]
     },
     "execution_count": 10,
     "metadata": {},
     "output_type": "execute_result"
    }
   ],
   "source": [
    "df.head()"
   ]
  },
  {
   "cell_type": "code",
   "execution_count": 11,
   "id": "02ad27af",
   "metadata": {},
   "outputs": [],
   "source": [
    "X = df[[0,1,2]]\n",
    "y = df[3]"
   ]
  },
  {
   "cell_type": "code",
   "execution_count": 12,
   "id": "c3cbbe43",
   "metadata": {},
   "outputs": [],
   "source": [
    "X_train, X_test= train_test_split(df, test_size=0.15, random_state=42, stratify=df[3], shuffle=True)"
   ]
  },
  {
   "cell_type": "code",
   "execution_count": 14,
   "id": "28d993b3",
   "metadata": {},
   "outputs": [],
   "source": [
    "X_train.to_csv(base_path + out_path_train, header=None, index=False)\n",
    "X_test.to_csv(base_path + out_path_test, header=None, index=False)"
   ]
  },
  {
   "cell_type": "code",
   "execution_count": null,
   "id": "5fe13878",
   "metadata": {},
   "outputs": [],
   "source": []
  }
 ],
 "metadata": {
  "kernelspec": {
   "display_name": "Python 3.8.8 ('base')",
   "language": "python",
   "name": "python3"
  },
  "language_info": {
   "codemirror_mode": {
    "name": "ipython",
    "version": 3
   },
   "file_extension": ".py",
   "mimetype": "text/x-python",
   "name": "python",
   "nbconvert_exporter": "python",
   "pygments_lexer": "ipython3",
   "version": "3.8.8"
  },
  "vscode": {
   "interpreter": {
    "hash": "f3fe4f9bb92dadfd0107a3317dbc4b047e334168aeab8ffb5b7227abf669eb35"
   }
  }
 },
 "nbformat": 4,
 "nbformat_minor": 5
}
